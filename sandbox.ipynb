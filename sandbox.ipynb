{
 "cells": [
  {
   "cell_type": "markdown",
   "metadata": {},
   "source": [
    "# Tutorial 1 - WaveBot\n",
    "The goal of this tutorial is to familiarize new users with how to set up and run optimization problems using WecOptTool. \n",
    "This tutorial uses a one-body WEC, the WaveBot, in one degree of freedom in regular waves. \n",
    "\n",
    "![WaveBot Photo](https://live.staticflickr.com/65535/51855905347_de87ccaaba_z.jpg)\n",
    "\n",
    "At the end of this tutorial the user will perform control co-design of the WEC geometry and a corresponding optimal controller to maximize electrical power. \n",
    "We build up to this problem in three parts of successive complexity:\n",
    "\n",
    "1. [Optimal control for maximum mechanical power](#1.-Optimal-control-for-maximum-mechanical-power)\n",
    "2. [Optimal control for maximum electrical power](#2.-Optimal-control-for-maximum-electrical-power)\n",
    "3. [Control co-design of the WEC's geometry for maximum electrical power](#3.-Control-co-design-of-the-WEC-geometry-for-maximum-electrical-power)\n",
    "\n",
    "We will start by loading the necessary modules: \n",
    "\n",
    "* Import Autograd (wrapper on NumPy, required) for [automatic differentiation](https://sandialabs.github.io/WecOptTool/theory.html#automatic-differentiation)\n",
    "* Import other packages we will use in this tutorial\n",
    "* Import WecOptTool "
   ]
  },
  {
   "cell_type": "code",
   "execution_count": null,
   "metadata": {},
   "outputs": [],
   "source": [
    "import autograd.numpy as np\n",
    "import capytaine as cpy\n",
    "import matplotlib.pyplot as plt\n",
    "from scipy.optimize import brute\n",
    "\n",
    "import wecopttool as wot\n",
    "\n",
    "## set colorblind-friendly colormap for plots\n",
    "plt.style.use('tableau-colorblind10')"
   ]
  },
  {
   "cell_type": "markdown",
   "metadata": {},
   "source": [
    "## 1. Optimal control for maximum mechanical power\n",
    "This example illustrates how to set up, run, and analyze a basic optimization problem using WecOptTool.\n",
    "\n",
    "The objective of this example is to **find the optimal PTO force time series** that produces the most mechanical power subject to the WEC dynamics and a maximum force the PTO can exert.\n",
    "\n",
    "WecOptTool requires the following to be defined to successfully run its optimization routines:\n",
    "\n",
    "* The wave environment\n",
    "* The WEC object, including all of its properties and constraints\n",
    "* The objective function\n",
    "\n",
    "The graphic below shows all the requirements for this first part of the tutorial: the wave environment on the left, the WEC object(with its relevant subcomponents) in the blue box in the middle, and the objective function (mechanical power) on the right.\n",
    "\n",
    "<div>\n",
    "<img src=\"https://live.staticflickr.com/65535/52435098523_37d6a2ca94_k.jpg\" width=\"1000\">\n",
    "</div>"
   ]
  },
  {
   "cell_type": "markdown",
   "metadata": {},
   "source": [
    "### Waves and WEC geometry\n",
    "The pseudo-spectral solution used in WecOptTool requires a specified set of frequencies to analyze.\n",
    "To model the WEC accurately, we need to ensure the set of selected frequencies captures the full hydrodynamic response range of the WEC.\n",
    "\n",
    "Therefore, we start our WecOptTool model by defining this set of frequencies, the wave environment, and the mesh of the WEC geometry.\n",
    "This ensures the minimum wavelength in the selected frequencies is larger than the minimum wavelength that can be analyzed with the mesh using the Boundary Element Method (BEM), which we will do [later](#bem-solution).\n",
    "This is a good initial check to make sure the hydrodynamic properties results calculated with the BEM will be accurate.\n",
    "\n",
    "#### Frequency selection\n",
    "To start with a simple case in this tutorial, we are interested in modeling a regular wave at 0.3 Hz.\n",
    "In regular waves, the linear WEC system response will always occur at the wave frequency, with the nonlinear system response also occurring at the corresponding odd harmonics (3rd, 5th, etc.) of the wave frequency.\n",
    "Thus, we can set the fundamental frequency in our set, $f_1$, equal to the wave frequency.\n",
    "Prior WaveBot analysis has found that the nonlinear dynamics are sufficiently captured with the 3rd, 5th, 7th, and 9th harmonics.\n",
    "WecOptTool assumes the spacing between frequencies equals the magnitude of $f_1$. Therefore, we will model 10 frequencies to encompass these harmonics.\n",
    "\n",
    "These frequencies will be used for the Fourier representation of both the wave and the desired PTO force in the pseudo-spectral problem.\n",
    "See the [Theory](https://sandialabs.github.io/WecOptTool/theory.html) section of the WecOptTool documentation for more details on the pseudo-spectral problem formulation.\n",
    "\n",
    "It is important to use the lowest number of frequencies possible while still maintaining accuracy in order to minimize degrees of freedom and computation time for the optimization solver."
   ]
  },
  {
   "cell_type": "code",
   "execution_count": null,
   "metadata": {},
   "outputs": [],
   "source": [
    "wavefreq = 0.3 # Hz\n",
    "f1 = wavefreq\n",
    "nfreq = 10\n",
    "\n",
    "freq = wot.frequency(f1, nfreq, False) # False -> no zero frequency"
   ]
  },
  {
   "cell_type": "markdown",
   "metadata": {},
   "source": [
    "#### Waves\n",
    "WecOptTool is configured to have the wave environment specified as a 2-dimensional `xarray.DataArray` containing the complex wave amplitudes (in meters), wave phases (in degrees), and directions (in degrees).\n",
    "We will use an amplitude of 0.0625 meters, a phase of 30 degrees, and direction 0 for this tutorial.\n",
    "The two coordinates are the radial frequency ``omega`` (in rad/s)  and the direction ``wave_direction`` (in radians).\n",
    "\n",
    "The `xarray` package has a pretty steep learning curve, so WecOptTool includes the `waves` module containing more intuitive functions that create `xarray.DataArray` objects for different types of wave environments.\n",
    "See the `xarray` documentation [here](https://docs.xarray.dev/en/latest/index.html) if you are interested in learning more about the package.\n",
    "In this case, we will use the `wecopttool.waves.regular_wave` function with our wave frequency, amplitude, phase, and direction:"
   ]
  },
  {
   "cell_type": "code",
   "execution_count": null,
   "metadata": {},
   "outputs": [],
   "source": [
    "amplitude = 0.0625 # m\n",
    "phase = 30 # degrees\n",
    "wavedir = 0 # degrees\n",
    "\n",
    "waves = wot.waves.regular_wave(f1, nfreq, wavefreq, amplitude, phase, wavedir)"
   ]
  },
  {
   "cell_type": "markdown",
   "metadata": {},
   "source": [
    "#### WEC geometry mesh\n",
    "Now we will create a surface mesh for the WEC hull and store it using the `FloatingBody` object from Capytaine.\n",
    "The WaveBot mesh is pre-defined in the `wecopttool.geom` module, so we will call it directly from there.\n",
    "Note that the Capytaine `from_meshio` method can also import from other file types (STL, VTK, MSH, etc.), click [here](https://pypi.org/project/meshio/) for the full list of compatible mesh file types."
   ]
  },
  {
   "cell_type": "code",
   "execution_count": null,
   "metadata": {},
   "outputs": [],
   "source": [
    "wb = wot.geom.WaveBot()  # use standard dimensions\n",
    "mesh_size_factor = 0.5 # 1.0 for default, smaller to refine mesh\n",
    "mesh = wb.mesh(mesh_size_factor)\n",
    "fb = cpy.FloatingBody.from_meshio(mesh, name=\"WaveBot\")"
   ]
  },
  {
   "cell_type": "markdown",
   "metadata": {},
   "source": [
    "We can also visualize the mesh for inspection.\n",
    "Capytaine has built-in methods for visualizing meshes (`fb.show`, and `fb.show_matplotlib`). \n",
    "These methods are interactive when used outside a Jupyter notebook.  \n",
    "The included WaveBot example also has a method for plotting the cross-section of the device, `plot_cross_section`. "
   ]
  },
  {
   "cell_type": "code",
   "execution_count": null,
   "metadata": {},
   "outputs": [],
   "source": [
    "fb.show_matplotlib()\n",
    "_ = wb.plot_cross_section(show=True) # specific to WaveBot"
   ]
  },
  {
   "cell_type": "markdown",
   "metadata": {},
   "source": [
    "#### Minimum wavelength check\n",
    "With the frequency vector, wave environment, and geometry mesh all defined, we can now check to make sure they are all suitable to accurately simulate the WEC dynamics.\n",
    "The `fb.minimal_computable_wavelength` method checks the mesh to determine the minimum wavelength that can be reliably computed using Capytaine.\n",
    "We compare this value to the minimum wavelength our frequency vector will compute; we want this number to be <u>larger</u> than Capytaine's minimum wavelength.\n",
    "A warning is printed if this is not the case.\n",
    "This warning is ignored here because the BEM results have been validated, but can be used as a guide for mesh refinement to ensure accurate BEM results."
   ]
  },
  {
   "cell_type": "code",
   "execution_count": null,
   "metadata": {},
   "outputs": [],
   "source": [
    "min_computable_wavelength = fb.minimal_computable_wavelength\n",
    "g = 9.81\n",
    "min_period = 1/(f1*nfreq)\n",
    "min_wavelength = (g*(min_period)**2)/(2*np.pi)\n",
    "\n",
    "if min_wavelength < min_computable_wavelength:\n",
    "    print(f'Warning: Minimum wavelength in frequency spectrum ({min_wavelength}) is smaller'\n",
    "         f' than the minimum computable wavelength ({min_computable_wavelength}).')"
   ]
  },
  {
   "cell_type": "markdown",
   "metadata": {},
   "source": [
    "### WEC object\n",
    "The `WEC` object in WecOptTool contains all the information about the WEC and its properties and dynamics.\n",
    "This constitutes the vast majority of the setup required to run a WecOptTool optimization.\n",
    "The WEC object handles three categoreis of data that are passed on to the optimizer:\n",
    "\n",
    "1. The intrinsic impedance of the WEC\n",
    "2. The WEC and PTO kinematic\n",
    "3. The PTO dynamics\n",
    "\n",
    "In order for the `WEC` object to be able to compute these data, we must provide information when we declare the object in the code.\n",
    "The required information includes:\n",
    "\n",
    "* [Degrees of freedom to consider](#degrees-of-freedom)\n",
    "* [Linear hydrodynamic coefficients](#bem-solution)\n",
    "* Any additional loads (e.g. PTO force, mooring, non-linear hydrodynamics)\n",
    "* Device constraints\n",
    "\n",
    "Again, we will keep things simple to start.\n",
    "We will only consider heave motion and assume a lossless PTO, and the WaveBot has trivial WEC-PTO kinematics (unity).\n",
    "We will apply one additional force (the PTO force on the WEC) and one constraint (the maximum PTO force), which [we define below using the PTO class](#pto)."
   ]
  },
  {
   "cell_type": "markdown",
   "metadata": {},
   "source": [
    "#### Degrees of freedom\n",
    "The degrees of freedom can be added directly to the `FloatingBody` using the `add_translation_dof` and `add_rotation_dof` methods. The axis of rotation is automatically defined if the method is supplied a name of `\"Surge\"`, `\"Sway\"`, `\"Heave\"`, `\"Roll\"`, `\"Pitch\"`, or `\"Yaw\"`. We will only model the heave degree of freedom in this case."
   ]
  },
  {
   "cell_type": "code",
   "execution_count": null,
   "metadata": {},
   "outputs": [],
   "source": [
    "fb.add_translation_dof(name=\"Heave\")\n",
    "ndof = fb.nb_dofs"
   ]
  },
  {
   "cell_type": "markdown",
   "metadata": {},
   "source": [
    "#### BEM solution"
   ]
  },
  {
   "cell_type": "markdown",
   "metadata": {},
   "source": [
    "We can use the `FloatingBody` and frequency vector created earlier to run the Boundary Element Method solver in Capytaine to get the hydrostatic and hydrodynamic coefficients of our WEC object.\n",
    "This is wrapped into the `wecopttool.run_bem` function.\n",
    "\n",
    "If you would like to save the BEM data to a NetCDF file for future use, uncomment the second line of the cell below to use the `wot.write_netcdf` function."
   ]
  },
  {
   "cell_type": "code",
   "execution_count": null,
   "metadata": {},
   "outputs": [],
   "source": [
    "bem_data = wot.run_bem(fb, freq)\n",
    "# wot.write_netcdf('bem_data.nc', bem_data) # saves BEM data to file"
   ]
  },
  {
   "cell_type": "markdown",
   "metadata": {},
   "source": [
    "Next, we use the utilities class `wecopttool.utilities`, which has functions that help you analyze and design WECs, but are not needed for the core function of WecOptTool.\n",
    "For example, we calculate the WEC's intrinsic impedance with its hydrodynamic coefficients and inherent inertial properties. We make use of `wecopttool.add_linear_friction()` to convert the `bem_data` into a dataset which contains all zero friction data, because `wecopttool.check_radiation_damping()` and `wecopttool.hydrodynamic_impedance()` excpect a data variable called 'friction'.\n",
    "\n",
    "The intrinsic impedance tells us how a hydrodynamic body responds to different excitation frequencies. For oscillating systems we are intersted in both, the amplitude of the resulting velocity as well as the phase between velocity and excitation force. Bode plots are useful tool to visualize the frequency response function.\n",
    "\n",
    "The natural frequency reveals itself as a trough in the intrinsic impedance for restoring degrees of freedom (heave, roll, pitch)."
   ]
  },
  {
   "cell_type": "code",
   "execution_count": null,
   "metadata": {},
   "outputs": [],
   "source": [
    "hd = wot.add_linear_friction(bem_data, friction = None) \n",
    "#we're not actually adding friction, but need the datavariables in hd \n",
    "hd = wot.check_radiation_damping(hd)\n",
    "\n",
    "intrinsic_impedance = wot.hydrodynamic_impedance(hd)\n",
    "fig, axes = wot.utilities.plot_bode_impedance(intrinsic_impedance,\n",
    "                                              'WaveBot Intrinsic Impedance')"
   ]
  },
  {
   "cell_type": "markdown",
   "metadata": {},
   "source": [
    "#### PTO\n",
    "WecOptTool includes the `PTO` class to encompass all properties of the power take-off system of the WEC.\n",
    "Data wrapped into our `PTO` class will be used to provide the additional force and constraint for our `WEC` object definition, as well as our optimization problem later.\n",
    "\n",
    "To create an instance of the `PTO` class, we need:\n",
    "\n",
    "* The kinematics matrix, which converts from the WEC degrees of freedom to the PTO degrees of freedom.\n",
    "In this case, the PTO extracts power directly from the heaving motion of the WEC, so the kinematics matrix is simply a $1 \\times 1$ identity matrix.\n",
    "* The definition of the PTO controller.\n",
    "The `wecopttool.pto` submodule includes P, PI, and PID controller functions that can be provided to the `PTO` class and return the PTO force.\n",
    "However, we will be using an unstructured controller in this case, which is the default when `controller=None`.\n",
    "* Any PTO impedance.\n",
    "We are only interested in mechanical power for this first problem, so we will leave this empty for now.\n",
    "* The non-linear power conversion loss (assumed 0% if `None`)\n",
    "* The PTO system name, if desired"
   ]
  },
  {
   "cell_type": "code",
   "execution_count": null,
   "metadata": {},
   "outputs": [],
   "source": [
    "name = [\"PTO_Heave\",]\n",
    "kinematics = np.eye(ndof)\n",
    "controller = None\n",
    "loss = None\n",
    "pto_impedance = None\n",
    "pto = wot.pto.PTO(ndof, kinematics, controller, pto_impedance, loss, name)"
   ]
  },
  {
   "cell_type": "markdown",
   "metadata": {},
   "source": [
    "Now we define the PTO forcing on the WEC and the PTO constraints.\n",
    "We set the maximum PTO force as 750 Newtons.\n",
    "This value is chosen somewhat arbitrary to highlight different effects throughout this tutorial.\n",
    "In practice, the user would need to identify their limiting component in the PTO and then compute a suitable value.\n",
    "For example, if the generator drive has a maximal current $I_{max}$ of 10 A, with a generator torque constant $K_t$ of 8 Nm/A and a gear ratio $N$ of 9 rad/m, this results in a max PTO linear force of $F = N K_{t} I_{max} = 9$ rad/m $\\times 8$ Nm $\\times 10$ A $= 720$ N.\n",
    "\n",
    "We will enforce the constraint at 4 times more points than the dynamics; see [Theory]((https://sandialabs.github.io/WecOptTool/theory.html)) for why this is helpful for the pseudo-spectral problem.\n",
    "The constraints must be in the correct format for `scipy.optimize.minimize`, which is the solver WecOptTool uses. See the documentation for the solver [here](https://docs.scipy.org/doc/scipy/reference/generated/scipy.optimize.minimize.html) and note the matching syntax of `ineq_cons` below."
   ]
  },
  {
   "cell_type": "code",
   "execution_count": null,
   "metadata": {},
   "outputs": [],
   "source": [
    "def My_PTO_Force(wec, x_wec, waves, nsubsteps=1):\n",
    "    motor = np.reshape(x_opt[:nstate_pto], (-1, ndof), order='F')\n",
    "    time_matrix = wec.time_mat_nsubsteps(nsubsteps)\n",
    "    return np.dot(time_matrix, motor)"
   ]
  },
  {
   "cell_type": "code",
   "execution_count": null,
   "metadata": {},
   "outputs": [],
   "source": [
    "# PTO dynamics forcing function\n",
    "# f_add = {'PTO': pto.force_on_wec}\n",
    "f_add = {'PTO': pto.My_PTO_Force}\n",
    "\n",
    "# Constraint\n",
    "f_max = 750.0\n",
    "nsubsteps = 4\n",
    "\n",
    "def const_f_pto(wec, x_wec, x_opt, waves): # Format for scipy.optimize.minimize\n",
    "    f = pto.force_on_wec(wec, x_wec, x_opt, waves, nsubsteps)\n",
    "    return f_max - np.abs(f.flatten())\n",
    "\n",
    "ineq_cons = {'type': 'ineq',\n",
    "             'fun': const_f_pto,\n",
    "             }\n",
    "constraints = [ineq_cons]"
   ]
  },
  {
   "cell_type": "markdown",
   "metadata": {},
   "source": [
    "#### `WEC` creation\n",
    "We are now ready to create the `WEC` object itself!\n",
    "Since we ran the BEM already, we can define the object using the `wecopttool.WEC.from_bem` function.\n",
    "If we saved BEM data to a NetCDF file, we can also provide the path to that file instead of specifying the BEM `Dataset` directly."
   ]
  },
  {
   "cell_type": "code",
   "execution_count": null,
   "metadata": {},
   "outputs": [],
   "source": [
    "wec = wot.WEC.from_bem(\n",
    "    bem_data,\n",
    "    constraints=constraints,\n",
    "    friction=None,\n",
    "    f_add=f_add,\n",
    ")"
   ]
  },
  {
   "cell_type": "markdown",
   "metadata": {},
   "source": [
    "_Note: You may receive a warning regarding negative linear damping values._\n",
    "_By default, WecOptTool ensures that the BEM data does not contain non-negative damping values._\n",
    "_If you would like to correct the BEM solution to a different minimum damping value besides zero, you can specify_ `min_damping`."
   ]
  },
  {
   "cell_type": "markdown",
   "metadata": {},
   "source": [
    "### Objective function\n",
    "The objective function is the quantity we want to optimize—in this case, the average mechanical power.\n",
    "The function to compute this can be taken directly from the `PTO` object we created:"
   ]
  },
  {
   "cell_type": "code",
   "execution_count": null,
   "metadata": {},
   "outputs": [],
   "source": [
    "obj_fun = pto.mechanical_average_power"
   ]
  },
  {
   "cell_type": "markdown",
   "metadata": {},
   "source": [
    "The objective function is itself a function of the optimization state `x_opt`.\n",
    "The length of `x_opt`, `nstate_opt`, needs to be properly defined to successfully call `scipy.optimize.minimize`.\n",
    "In other words, it should match the quantities we are interested in optimizing.\n",
    "In this case, we are optimizing for the control trajectories of an unstructured PTO, which can be represented in the Fourier domain by the DC (zero frequency) component, then the real and imaginary components for each frequency."
   ]
  },
  {
   "cell_type": "code",
   "execution_count": null,
   "metadata": {},
   "outputs": [],
   "source": [
    "nstate_opt = 2*nfreq"
   ]
  },
  {
   "cell_type": "markdown",
   "metadata": {},
   "source": [
    "One technical quirk here: `nstate_opt` is one smaller than would be expected for a state space representing the mean (DC) component and the real and imaginary Fourier coefficients.\n",
    "This is because WecOptTool excludes the imaginary Fourier component of the highest frequency (the 2-point wave).\n",
    "Since the 2-point wave is sampled at multiples of $\\pi$, the imaginary component is evaluated as $sin(n\\pi); n = 0, 1, 2, ..., n_{freq}$, which is always zero."
   ]
  },
  {
   "cell_type": "markdown",
   "metadata": {},
   "source": [
    "### Solve\n",
    "We are now ready to solve the problem.\n",
    "WecOptTool uses `scipy.optimize.minimize` as its optimization driver, which is wrapped into `wecopttool.WEC.solve` for ease of use.\n",
    "\n",
    "The only required inputs for defining and solving the problem are:\n",
    "\n",
    "1. The wave environment\n",
    "2. The objective function\n",
    "3. The size of the optimization state (`nstate_opt`)\n",
    "\n",
    "Optional inputs can be provided to control the optimization execution if desired, which we do here to change the default iteration maximum and tolerance.\n",
    "See the `scipy.optimize.minimize` documentation [here](https://docs.scipy.org/doc/scipy/reference/generated/scipy.optimize.minimize.html) for more details.\n",
    "\n",
    "To help the problem converge faster, we will scale the problem before solving it (see the [Scaling](https://docs.scipy.org/doc/scipy/reference/generated/scipy.optimize.minimize.html) section of the Theory documentation).\n",
    "WecOptTool allows you to scale the WEC dynamics state, the optimization state, and the objective function separately.\n",
    "See the `wecopttool.WEC.solve` documentation [here](https://sandialabs.github.io/WecOptTool/api_docs/wecopttool.WEC.solve.html#wecopttool-wec-solve).\n",
    "\n",
    "\n",
    "Pay attention to the `Exit mode`: an exit mode of `0` indicates a successful solution.\n",
    "A simple problem (linear, single degree of freedom, unconstrained, etc.) should converge in well under 100 iterations.\n",
    "If you exceed this, try adjusting the scales by orders of magnitude, one at a time."
   ]
  },
  {
   "cell_type": "code",
   "execution_count": null,
   "metadata": {},
   "outputs": [],
   "source": [
    "options = {'maxiter': 200}\n",
    "scale_x_wec = 1e1\n",
    "scale_x_opt = 1e-3\n",
    "scale_obj = 1e-2\n",
    "\n",
    "results = wec.solve(\n",
    "    waves, \n",
    "    obj_fun, \n",
    "    nstate_opt,\n",
    "    optim_options=options, \n",
    "    scale_x_wec=scale_x_wec,\n",
    "    scale_x_opt=scale_x_opt,\n",
    "    scale_obj=scale_obj,\n",
    "    )\n",
    "\n",
    "opt_mechanical_average_power = results[0].fun\n",
    "print(f'Optimal average mechanical power: {opt_mechanical_average_power} W')"
   ]
  },
  {
   "cell_type": "markdown",
   "metadata": {},
   "source": [
    "### Analyzing results\n",
    "We will use two post-processing functions to obtain frequency and time domain results for the WEC and PTO responses.\n",
    "The `wec.post_process` and `pto.post_process` functions both post-process the results for each wave phase realization.\n",
    "The pseudo-spectral method gives continuous in time results.\n",
    "To get smoother looking plots, we specify five subpoints betweeen co-location points."
   ]
  },
  {
   "cell_type": "code",
   "execution_count": null,
   "metadata": {},
   "outputs": [],
   "source": [
    "nsubsteps = 5\n",
    "pto_fdom, pto_tdom = pto.post_process(wec, results, waves, nsubsteps=nsubsteps)\n",
    "wec_fdom, wec_tdom = wec.post_process(wec, results, waves, nsubsteps=nsubsteps)"
   ]
  },
  {
   "cell_type": "markdown",
   "metadata": {},
   "source": [
    "The `pto.post_process` function returns a list of `xarray.Dataset` objects, each element of which has built-in integration with PyPlot for smart plotting with automatic titles and formatting.\n",
    "We will plot the mechanical power (`mech_power`), position (`pos`), and the PTO force (`force`)."
   ]
  },
  {
   "cell_type": "code",
   "execution_count": null,
   "metadata": {},
   "outputs": [],
   "source": [
    "plt.figure()\n",
    "pto_tdom[0]['power'].loc['mech',:,:].plot()"
   ]
  },
  {
   "cell_type": "markdown",
   "metadata": {},
   "source": [
    "We could similarly plot any time or frequency domain response of the WEC or PTO by calling the specific type of response (position, velocity, force, etc.).\n",
    "For example, to plot the WEC heave position and PTO force:"
   ]
  },
  {
   "cell_type": "code",
   "execution_count": null,
   "metadata": {},
   "outputs": [],
   "source": [
    "plt.figure()\n",
    "wec_tdom[0]['pos'].plot()\n",
    "\n",
    "plt.figure()\n",
    "pto_tdom[0]['force'].plot()"
   ]
  },
  {
   "cell_type": "markdown",
   "metadata": {},
   "source": [
    "Note that there are other dynamic responses available in the post-processed WEC and PTO variables (`wec_tdom`, `pto_tdom`, `wec_fdom`, `pto_fdom`).\n",
    "For example, the time domain PTO variable contains the following response:"
   ]
  },
  {
   "cell_type": "code",
   "execution_count": null,
   "metadata": {},
   "outputs": [],
   "source": [
    "pto_tdom"
   ]
  },
  {
   "cell_type": "markdown",
   "metadata": {},
   "source": [
    "Lastly, we will visualize the average power at different stages and how the power flows through the system.\n"
   ]
  },
  {
   "cell_type": "code",
   "execution_count": null,
   "metadata": {},
   "outputs": [],
   "source": [
    "p_flows = wot.utilities.calculate_power_flows(wec,\n",
    "                                              pto, \n",
    "                                              results, \n",
    "                                              waves, \n",
    "                                              intrinsic_impedance)\n",
    "wot.utilities.plot_power_flow(p_flows)"
   ]
  },
  {
   "cell_type": "markdown",
   "metadata": {},
   "source": [
    "\n",
    "On the very left of the power flow Sankey diagram we start with the *Optimal Excitation*, which is only determined by the incident wave and the hydrodynamic damping and friction. \n",
    "In order for the actual *Excited* power to equal the *Optimal Excitation* the absorbed *Mechanical* power would need to equal the *Radiated* power (power that is radiated away from the WEC). In this case the *Unused Potential* would be zero.\n",
    "In other words, you can never convert more than 50% of the incident wave energy into kinetic energy. For more information on this we refer to Johannes Falnes Book - Ocean Waves and Oscillating System, specifically Chapter 6.\n",
    "\n",
    "However, the optimal 50% absorption is an overly optimistic goal considering that real world systems are likely constrained in their oscillation velocity amplitude and phase, due to limitations in stroke and applicable force.\n",
    "\n",
    "\n",
    "The PTO force constraint used in this optimization also stopped us from absorbing the maximal potential wave energy. It is notable that we absorbed approximately 3/4 of the maximal absorbable power (*Mechanical* / (1/2 *Optimal Excitation*)), with relatively little *Radiated* power (about 1/2 of the absorbed power). To also absorb the last 1/4 of the potential wave power, we would need to increase the *Radiated* power three times!!\n",
    "\n",
    "\n",
    "A more important question than \"How to achieve optimal absorption?\" is \"How do we optimize usable output power?\", i.e. *Electrical* power. For this optimization case we used a lossless PTO that has no impedance in itself. Therefore, the *Electrical* power equals the absorbed *Mechanical* power.\n",
    "We'll show in the following sections that this a poor assumption and that the power flow looks fundamentally different when taking the PTO dynamics into account!!\n"
   ]
  }
 ],
 "metadata": {
  "kernelspec": {
   "display_name": "venv",
   "language": "python",
   "name": "python3"
  },
  "language_info": {
   "codemirror_mode": {
    "name": "ipython",
    "version": 3
   },
   "file_extension": ".py",
   "mimetype": "text/x-python",
   "name": "python",
   "nbconvert_exporter": "python",
   "pygments_lexer": "ipython3",
   "version": "3.12.7"
  }
 },
 "nbformat": 4,
 "nbformat_minor": 2
}
